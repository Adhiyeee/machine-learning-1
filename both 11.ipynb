{
 "cells": [
  {
   "cell_type": "code",
   "execution_count": 2,
   "id": "d3b3933b-dbdc-4e54-8b62-c5dbddcb6c97",
   "metadata": {},
   "outputs": [],
   "source": [
    "import pandas as pd\n",
    "import seaborn as sns\n",
    "from sklearn.preprocessing import LabelEncoder,StandardScaler\n",
    "from sklearn.model_selection import train_test_split\n",
    "from sklearn.linear_model import LogisticRegression\n",
    "from sklearn.tree import DecisionTreeClassifier\n",
    "from sklearn.metrics import accuracy_score,classification_report"
   ]
  },
  {
   "cell_type": "code",
   "execution_count": 3,
   "id": "70174d35-3383-4a2d-9652-cd6c15cd24e3",
   "metadata": {},
   "outputs": [
    {
     "name": "stdout",
     "output_type": "stream",
     "text": [
      "   survived  pclass     sex   age  sibsp  parch     fare embarked  class  \\\n",
      "0         0       3    male  22.0      1      0   7.2500        S  Third   \n",
      "1         1       1  female  38.0      1      0  71.2833        C  First   \n",
      "2         1       3  female  26.0      0      0   7.9250        S  Third   \n",
      "3         1       1  female  35.0      1      0  53.1000        S  First   \n",
      "4         0       3    male  35.0      0      0   8.0500        S  Third   \n",
      "\n",
      "     who  adult_male deck  embark_town alive  alone  \n",
      "0    man        True  NaN  Southampton    no  False  \n",
      "1  woman       False    C    Cherbourg   yes  False  \n",
      "2  woman       False  NaN  Southampton   yes   True  \n",
      "3  woman       False    C  Southampton   yes  False  \n",
      "4    man        True  NaN  Southampton    no   True  \n"
     ]
    }
   ],
   "source": [
    "df=sns.load_dataset(\"titanic\")\n",
    "print(df.head())"
   ]
  },
  {
   "cell_type": "code",
   "execution_count": 17,
   "id": "9156f790-2d54-448d-8973-37e55dcdd125",
   "metadata": {},
   "outputs": [
    {
     "name": "stdout",
     "output_type": "stream",
     "text": [
      "accuracy 0.7832167832167832\n",
      "Logistic Regression Report:\n",
      "               precision    recall  f1-score   support\n",
      "\n",
      "           0       0.78      0.83      0.81        77\n",
      "           1       0.79      0.73      0.76        66\n",
      "\n",
      "    accuracy                           0.78       143\n",
      "   macro avg       0.78      0.78      0.78       143\n",
      "weighted avg       0.78      0.78      0.78       143\n",
      "\n",
      "treeacuracy 0.7762237762237763\n",
      "tree report               precision    recall  f1-score   support\n",
      "\n",
      "           0       0.76      0.84      0.80        77\n",
      "           1       0.79      0.70      0.74        66\n",
      "\n",
      "    accuracy                           0.78       143\n",
      "   macro avg       0.78      0.77      0.77       143\n",
      "weighted avg       0.78      0.78      0.77       143\n",
      "\n"
     ]
    }
   ],
   "source": [
    "df=df[[\"age\",\"class\",\"pclass\",\"sex\",\"fare\",\"survived\"]]\n",
    "df.dropna(inplace=True)\n",
    "dd=LabelEncoder()\n",
    "df[\"sex\"]=dd.fit_transform(df[\"sex\"])\n",
    "df[\"class\"] = dd.fit_transform(df[\"class\"]) \n",
    "x=df.drop(\"survived\",axis=1)\n",
    "y=df[\"survived\"]\n",
    "x['pclass'] = dd.fit_transform(x['pclass'])\n",
    "x_train,x_test,y_train,y_test=train_test_split(x,y,test_size=0.2,random_state=40)\n",
    "scaler=StandardScaler()\n",
    "xtracaled=scaler.fit_transform(x_train)\n",
    "xtscale=scaler.transform(x_test)\n",
    "model=LogisticRegression()\n",
    "model.fit(xtracaled,y_train)\n",
    "lpred=model.predict(xtscale)\n",
    "print(\"accuracy\",accuracy_score(y_test,lpred))\n",
    "print(\"Logistic Regression Report:\\n\", classification_report(y_test,lpred))\n",
    "tr=DecisionTreeClassifier()\n",
    "tr.fit(xtracaled,y_train)\n",
    "predtr=tr.predict(xtscale)\n",
    "print(\"treeacuracy\",accuracy_score(y_test,predtr))\n",
    "print(\"tree report\",classification_report(y_test,predtr))\n"
   ]
  },
  {
   "cell_type": "code",
   "execution_count": 9,
   "id": "8fa81c1f-9299-4110-8a39-545a775acd42",
   "metadata": {},
   "outputs": [
    {
     "name": "stdout",
     "output_type": "stream",
     "text": [
      "[3 1 2]\n"
     ]
    }
   ],
   "source": [
    "print(x['pclass'].unique())"
   ]
  },
  {
   "cell_type": "code",
   "execution_count": 27,
   "id": "74d3409e-f70f-46cb-9c12-670206ae8748",
   "metadata": {},
   "outputs": [
    {
     "name": "stdout",
     "output_type": "stream",
     "text": [
      "survived\n",
      "survived\n"
     ]
    }
   ],
   "source": [
    "sample = pd.DataFrame([[1, 1, 3, 1, 20]], columns=[\"age\", \"class\", \"pclass\", \"sex\", \"fare\"])\n",
    "# Apply the same scaler used earlier on training data\n",
    "sample_scaled = scaler.transform(sample)\n",
    "log_pred=model.predict(sample_scaled)\n",
    "print(\"survived\"if lpred[0]==1 else \"dead\")\n",
    "treepred=tr.predict(sample_scaled)\n",
    "print(\"survived\"if predtr[0]==1 else \"dead\")"
   ]
  },
  {
   "cell_type": "code",
   "execution_count": null,
   "id": "3fa000d7-25e3-42e5-b9f0-cb3ff21963a1",
   "metadata": {},
   "outputs": [],
   "source": []
  }
 ],
 "metadata": {
  "kernelspec": {
   "display_name": "Python [conda env:base] *",
   "language": "python",
   "name": "conda-base-py"
  },
  "language_info": {
   "codemirror_mode": {
    "name": "ipython",
    "version": 3
   },
   "file_extension": ".py",
   "mimetype": "text/x-python",
   "name": "python",
   "nbconvert_exporter": "python",
   "pygments_lexer": "ipython3",
   "version": "3.13.5"
  }
 },
 "nbformat": 4,
 "nbformat_minor": 5
}
